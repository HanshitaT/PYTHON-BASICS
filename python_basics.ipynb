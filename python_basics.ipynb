{
  "nbformat": 4,
  "nbformat_minor": 0,
  "metadata": {
    "colab": {
      "provenance": []
    },
    "kernelspec": {
      "name": "python3",
      "display_name": "Python 3"
    },
    "language_info": {
      "name": "python"
    }
  },
  "cells": [
    {
      "cell_type": "code",
      "execution_count": null,
      "metadata": {
        "id": "jvu5U8GuOQO-"
      },
      "outputs": [],
      "source": []
    },
    {
      "cell_type": "markdown",
      "source": [
        "# Python basics"
      ],
      "metadata": {
        "id": "Yc0_6WAFOR7k"
      }
    },
    {
      "cell_type": "code",
      "source": [],
      "metadata": {
        "id": "Mbk1ighMOXUX"
      },
      "execution_count": null,
      "outputs": []
    },
    {
      "cell_type": "markdown",
      "source": [
        "1. What is Python, and why is it popular?\n",
        "  - Python is a programming language that allows you to write instructions for a computer in a way that’s easy to understand. It's like giving commands to a computer using plain and simple language.\n",
        " It is a programming language that allows you to write instructions for a computer in a way that’s easy to understand. It's like giving commands to a computer using plain and simple language.\n",
        "\n",
        "  Python is famous because it is simple, powerful, and versatile, making it a favorite for both beginners and professionals. Here’s why Python stands out:\n",
        "\n",
        "1. Ease of Learning and Use:\n",
        "Python has a clean, easy-to-read syntax that feels almost like writing in plain English.\n",
        "It’s beginner-friendly and ideal for people who are new to programming.\n",
        "2. Versatility:\n",
        "Python can be used in many fields:\n",
        "Web Development: Frameworks like Django and Flask.\n",
        "Data Science and Machine Learning: Libraries like Pandas, TensorFlow, and Scikit-learn.\n",
        "Automation: Scripts to automate repetitive tasks.\n",
        "App and Game Development: Tools like Pygame.\n",
        "Cybersecurity: Writing hacking and defense tools.\n",
        "IoT: Controlling devices like Raspberry Pi.\n",
        "3. Large Library of Tools:\n",
        "Python comes with a standard library full of pre-built tools for tasks like math, file handling, and web interaction.\n",
        "Additionally, third-party libraries allow Python to handle complex tasks like:\n",
        "Analyzing data (e.g., NumPy, Pandas).\n",
        "Building websites (e.g., Flask, Django).\n",
        "AI and deep learning (e.g., TensorFlow, PyTorch).\n",
        "4. Cross-Platform and Free:\n",
        "Python works on all major operating systems (Windows, macOS, Linux).\n",
        "It’s free and open-source, meaning anyone can use it and contribute to its improvement.\n",
        "5. Thriving Community:\n",
        "Python has one of the largest programming communities in the world.\n",
        "Developers can find countless tutorials, forums, and resources for learning and troubleshooting.\n",
        "6. Adoption by Big Tech Companies:\n",
        "Companies like Google, Netflix, Instagram, Spotify, and Dropbox use Python because it is fast and scalable.\n",
        "7. Applications in Emerging Technologies:\n",
        "Python is the go-to language for hot fields like:\n",
        "Artificial Intelligence (AI) and Machine Learning.\n",
        "Data Science and Big Data Analysis.\n",
        "Blockchain and Fintech innovations.\n",
        "In summary, Python’s simplicity, flexibility, and ability to handle diverse tasks have made it one of the most popular programming languages in the world! Would you like to explore its uses in more detail?\n",
        "\n",
        "\n",
        "\n",
        "\n",
        "\n",
        "\n",
        "\n",
        "\n",
        "\n",
        "\n",
        "\n",
        "\n",
        "\n",
        "C"
      ],
      "metadata": {
        "id": "1ZnkXycqOZKy"
      }
    },
    {
      "cell_type": "code",
      "source": [],
      "metadata": {
        "id": "8umKnh3zOhJx"
      },
      "execution_count": null,
      "outputs": []
    },
    {
      "cell_type": "markdown",
      "source": [
        "2. What is an interpreter in Python?\n",
        "   - An **interpreter** in Python is a program that executes Python code directly by translating it into machine code or intermediate code at runtime. Unlike compiled languages (e.g., C or Java), Python programs do not need to be compiled into a separate binary before they can run. Instead, the Python interpreter reads and executes your code line-by-line.\n",
        "\n",
        "\n",
        "### Types of Python Interpreters:\n",
        "There are several implementations of Python interpreters:\n",
        "1. **CPython**:\n",
        "   - The default and most widely used implementation of Python.\n",
        "   - Written in C.\n",
        "   - Executes bytecode through its virtual machine.\n",
        "\n",
        "2. **PyPy**:\n",
        "   - An alternative implementation focused on speed.\n",
        "   - Uses Just-In-Time (JIT) compilation to optimize code execution.\n",
        "\n",
        "3. **Jython**:\n",
        "   - Runs Python code on the Java Virtual Machine (JVM).\n",
        "   - Allows Python to interact with Java libraries.\n",
        "\n",
        "4. **IronPython**:\n",
        "   - Runs Python code on the .NET framework.\n",
        "   - Enables interoperability with .NET languages like C#.\n",
        "\n",
        "5. **MicroPython**:\n",
        "   - A lightweight interpreter for microcontrollers and embedded systems.\n",
        "\n"
      ],
      "metadata": {
        "id": "fiwBNxk3Qeph"
      }
    },
    {
      "cell_type": "markdown",
      "source": [],
      "metadata": {
        "id": "l-8lZYsnPCl2"
      }
    },
    {
      "cell_type": "markdown",
      "source": [
        "3. What are pre-defined keywords in Python?\n",
        "  - **Pre-defined keywords** in Python are reserved words that have specific meanings and purposes. They form the core syntax and structure of the language and cannot be used as identifiers (variable names, function names, etc.).\n",
        "\n",
        "Here’s a list of **all Python keywords** (as of Python 3.11):\n",
        "\n",
        "### Control Flow Keywords\n",
        "- `if`, `elif`, `else`: Conditional statements for branching logic.\n",
        "- `for`, `while`: Looping constructs.\n",
        "- `break`: Exits a loop prematurely.\n",
        "- `continue`: Skips the current iteration of a loop and proceeds to the next one.\n",
        "- `pass`: A placeholder statement that does nothing.\n",
        "- `return`: Exits a function and optionally returns a value.\n",
        "- `yield`: Returns a generator object from a function.\n",
        "- `try`, `except`, `finally`: Used for handling exceptions.\n",
        "- `raise`: Used to raise exceptions.\n",
        "\n",
        "### Boolean and None Keywords\n",
        "- `True`: Represents the Boolean value `True`.\n",
        "- `False`: Represents the Boolean value `False`.\n",
        "- `None`: Represents a null value or \"no value at all.\"\n",
        "\n",
        "### Logical and Membership Operators\n",
        "- `and`: Logical AND operator.\n",
        "- `or`: Logical OR operator.\n",
        "- `not`: Logical NOT operator.\n",
        "- `in`: Checks for membership in a sequence or collection.\n",
        "- `is`: Tests for object identity.\n",
        "\n",
        "### Function and Class Definition\n",
        "- `def`: Used to define a function.\n",
        "- `class`: Used to define a class.\n",
        "- `lambda`: Used to define an anonymous function.\n",
        "\n",
        "### Variable Scope and Import\n",
        "- `global`: Declares a global variable.\n",
        "- `nonlocal`: Refers to variables in the nearest enclosing scope that is not global.\n",
        "- `import`: Used to import modules.\n",
        "- `from`: Specifies the source module during imports.\n",
        "- `as`: Renames a module or variable in an import statement.\n",
        "\n",
        "### Exception Handling\n",
        "- `try`, `except`, `finally`: Handle exceptions and cleanup actions.\n",
        "- `raise`: Triggers an exception.\n",
        "\n",
        "### Asynchronous Programming\n",
        "- `async`: Declares asynchronous functions.\n",
        "- `await`: Used to pause execution until a coroutine completes.\n",
        "\n",
        "### Context Management\n",
        "- `with`: Simplifies resource management (e.g., opening files).\n",
        "\n",
        "### Class-Related Keywords\n",
        "- `del`: Deletes an object or variable reference.\n",
        "- `self`: A convention for referring to instance objects (not a keyword, but widely used in class methods).\n",
        "\n",
        "### Special Keywords\n",
        "- `assert`: Used for debugging to test conditions.\n",
        "- `breakpoint`: Used to insert a debugging breakpoint.\n",
        "- `match`, `case`: Used for structural pattern matching\n"
      ],
      "metadata": {
        "id": "peZcgXUkRkAR"
      }
    },
    {
      "cell_type": "markdown",
      "source": [],
      "metadata": {
        "id": "hYNOBG62SCpV"
      }
    },
    {
      "cell_type": "markdown",
      "source": [
        "4. Can keywords be used as variable names\n",
        "   - No, **keywords cannot be used as variable names** in Python. Keywords are reserved for specific purposes within the language, and using them as variable names would cause a syntax error.\n",
        "\n"
      ],
      "metadata": {
        "id": "N7FYA7deSDcV"
      }
    },
    {
      "cell_type": "markdown",
      "source": [
        "5. What is mutability in Python?\n",
        "  - **Mutability** in Python refers to whether an object’s value can be changed after it is created. Python objects fall into two categories:\n",
        " **Mutable Objects**: Their values can be changed in place without changing the object’s identity.\n",
        "**Immutable Objects**: Once created, their values cannot be changed. Any modification creates a new object.\n",
        "\n",
        "---\n",
        "\n",
        "### **Mutable Objects**\n",
        "- **Definition**: These objects allow changes to their content or state without creating a new object.\n",
        "- **Examples**:\n",
        "  - `list`\n",
        "  - `dict`\n",
        "  - `set`\n",
        "  - `bytearray`\n",
        "\n",
        "\n",
        "\n"
      ],
      "metadata": {
        "id": "DyQYlvwwSLy6"
      }
    },
    {
      "cell_type": "markdown",
      "source": [
        "**6. Why are lists mutable, but tuples are immutable**\n",
        "  - The **mutability of lists** and the **immutability of tuples** in Python arise from their design and intended use cases. Here's why lists are mutable while tuples are immutable:\n",
        "\n",
        "---\n",
        "\n",
        " **1. Lists Are Mutable**\n",
        "- **Purpose**: Lists are designed to be **dynamic**, allowing you to modify their contents as needed. This makes them suitable for use cases where the size or content of the collection changes frequently.\n",
        "- **Implementation**: Internally, a list is implemented as a dynamic array. It allocates extra memory to allow in-place modifications like adding, removing, or changing elements.\n",
        "\n",
        "**bold text**\n",
        "\n",
        "2. Tuples Are Immutable**\n",
        "- **Purpose**: Tuples are designed to be **static**, acting as lightweight, hashable collections that ensure data integrity. They are often used when the structure of the collection is fixed or when elements need to be hashable (e.g., keys in dictionaries or elements in sets).\n",
        "- **Implementation**: Tuples are stored in a compact, fixed-size memory layout, and Python doesn't allow modifications to their contents after creation. This design makes tuples more memory-efficient and faster than lists for certain operations.\n",
        "\n"
      ],
      "metadata": {
        "id": "OKqCpoGpSsQt"
      }
    },
    {
      "cell_type": "markdown",
      "source": [
        "7.  What is the difference between “==” and “is” operators in Python?\n",
        "    - In Python, `==` and `is` are both used to compare objects, but they serve very different purposes:\n",
        "\n",
        "---\n",
        "\n",
        "1. `==` (Equality Operator)**\n",
        "- **Purpose**: Compares the **values** of two objects to check if they are equivalent.\n",
        "- **Checks**: Whether the contents of the objects are the same.\n",
        "- **Does Not Check**: Object identity (whether they are the same object in memory).\n",
        "- **Overloadable**: Custom objects can define their own behavior for `==` by implementing the `__eq__` method.\n",
        "\n",
        "2. `is` (Identity Operator)**\n",
        "- **Purpose**: Compares the **identities** of two objects to check if they are the same object in memory.\n",
        "- **Checks**: Whether the two variables refer to the same object (i.e., they have the same memory address).\n",
        "- **Does Not Check**: Whether the contents of the objects are the same.\n",
        "- **Immutable Objects**: For small integers and strings, `is` might appear to behave like `==` due to Python's internal optimization (object interning), but they are fundamentally different.\n",
        "\n",
        "\n",
        "---\n",
        "\n",
        "#Key Differences Between `==` and `is`**\n",
        "\n",
        "| Aspect                | `==` (Equality)                   | `is` (Identity)                     |\n",
        "|-----------------------|------------------------------------|--------------------------------------|\n",
        "| **Purpose**           | Compares values                   | Compares memory locations (identity)|\n",
        "| **Checks**            | Content equivalence               | Object identity                     |\n",
        "| **Customizability**   | Can be overridden via `__eq__`    | Cannot be overridden                |\n",
        "| **Result for Immutable Objects**| May be `True` for equivalent values| May be `True` due to object interning|\n",
        "\n",
        "---\n",
        "\n",
        "\n",
        "When to Use `==` vs. `is`**\n",
        "- Use `==` when you want to compare **values** for equality.\n",
        "- Use `is` when you want to check **object identity** (e.g., to see if two variables refer to the same object)"
      ],
      "metadata": {
        "id": "qfUB00CXTp6O"
      }
    },
    {
      "cell_type": "markdown",
      "source": [
        "8. What are logical operators in Python?\n",
        "  - **Logical operators** in Python are used to combine conditional statements and evaluate logical expressions. They return a Boolean value (`True` or `False`) based on the conditions provided.\n",
        "\n",
        "### **Logical Operators in Python**\n",
        "There are three logical operators in Python:\n",
        "\n",
        "| Operator | Description                     | Example               |\n",
        "|----------|---------------------------------|-----------------------|\n",
        "| `and`    | Returns `True` if both conditions are `True`. | `x > 5 and x < 10`  |\n",
        "| `or`     | Returns `True` if at least one condition is `True`. | `x < 5 or x > 10`   |\n",
        "| `not`    | Reverses the result: returns `True` if the condition is `False`. | `not(x < 5)`         |\n",
        "\n",
        "---\n",
        "\n",
        "### **1. `and` Operator**\n",
        "- **Description**: Combines two conditions and evaluates to `True` only if **both** conditions are `True`.\n",
        "- **Truth Table**:\n",
        "  | Condition 1 | Condition 2 | Result (`Condition 1 and Condition 2`) |\n",
        "  |-------------|-------------|-----------------------------------------|\n",
        "  | `True`      | `True`      | `True`                                  |\n",
        "  | `True`      | `False`     | `False`                                 |\n",
        "  | `False`     | `True`      | `False`                                 |\n",
        "  | `False`     | `False`     | `False`                                 |\n",
        "\n",
        "\n",
        "### **2. `or` Operator**\n",
        "- **Description**: Combines two conditions and evaluates to `True` if **at least one** of the conditions is `True`.\n",
        "- **Truth Table**:\n",
        "  | Condition 1 | Condition 2 | Result (`Condition 1 or Condition 2`)  |\n",
        "  |-------------|-------------|-----------------------------------------|\n",
        "  | `True`      | `True`      | `True`                                  |\n",
        "  | `True`      | `False`     | `True`                                  |\n",
        "  | `False`     | `True`      | `True`                                  |\n",
        "  | `False`     | `False`     | `False`                                 |\n",
        "\n",
        "\n",
        "\n",
        "### **3. `not` Operator**\n",
        "- **Description**: Reverses the logical value of a condition. If the condition is `True`, `not` makes it `False`, and vice versa.\n",
        "- **Truth Table**:\n",
        "  | Condition | Result (`not Condition`) |\n",
        "  |-----------|---------------------------|\n",
        "  | `True`    | `False`                  |\n",
        "  | `False`   | `True`                   |\n",
        "\n",
        "#### Example:\n",
        "```python\n",
        "x = 7\n",
        "print(not(x < 5))  # True, because `x < 5` is False\n",
        "print(not(x > 5))  # False, because `x > 5` is True\n",
        "```\n",
        "\n",
        "---\n",
        "\n",
        "### **Combining Logical Operators**\n",
        "Logical operators can be combined to form complex conditions. Python evaluates them in the following order of precedence:\n",
        "1. `not`\n",
        "2. `and`\n",
        "3. `or`\n",
        "\n",
        "\n",
        "\n"
      ],
      "metadata": {
        "id": "M-vB5IUcSrlD"
      }
    },
    {
      "cell_type": "markdown",
      "source": [
        "9. What is type casting in Python\n",
        "  - **Type casting** in Python refers to the process of converting a variable from one data type to another. Python provides built-in functions to facilitate type conversion, either implicitly or explicitly.\n",
        "\n",
        "---\n",
        "\n",
        "### **1. Explicit Type Casting**\n",
        "In **explicit type casting**, the programmer manually converts one data type to another using specific functions. It ensures clarity and control over the conversion process.\n",
        "\n",
        "#### Common Built-in Functions for Explicit Type Casting:\n",
        "| Function    | Converts To         | Example                                  |\n",
        "|-------------|---------------------|------------------------------------------|\n",
        "| `int()`     | Integer             | `int(\"42\")` → `42`                      |\n",
        "| `float()`   | Floating-point      | `float(\"42.5\")` → `42.5`                |\n",
        "| `str()`     | String              | `str(42)` → `\"42\"`                      |\n",
        "| `list()`    | List                | `list((1, 2, 3))` → `[1, 2, 3]`         |\n",
        "| `tuple()`   | Tuple               | `tuple([1, 2, 3])` → `(1, 2, 3)`        |\n",
        "| `set()`     | Set                 | `set([1, 2, 3])` → `{1, 2, 3}`          |\n",
        "| `bool()`    | Boolean             | `bool(1)` → `True`, `bool(0)` → `False` |\n",
        "\n",
        "\n",
        "---\n",
        "\n",
        "### **2. Implicit Type Casting**\n",
        "Python automatically converts one data type to another during an operation when it is safe to do so. This is known as **type coercion**.\n",
        "\n",
        "\n",
        "\n",
        "Python ensures no loss of information when performing implicit type casting.\n",
        "\n",
        "---\n",
        "\n",
        "### **3. Common Use Cases for Type Casting**\n",
        "\n",
        "#### **a) Arithmetic with Mixed Types**\n",
        "When working with mixed types (e.g., `int` and `float`), explicit casting is often necessary to ensure consistent results.\n",
        "```python\n",
        "# Division returning float\n",
        "result = 5 / 2\n",
        "print(result)  # 2.5\n",
        "\n",
        "# Floor division returning int\n",
        "result = int(5 / 2)\n",
        "print(result)  # 2\n",
        "```\n",
        "\n",
        "#### **b) Input Conversion**\n",
        "Python's `input()` function always returns a string, so explicit type casting is required to convert it to other types.\n",
        "```python\n",
        "user_input = input(\"Enter a number: \")  # Always returns a string\n",
        "number = int(user_input)  # Explicit conversion to integer\n",
        "print(number + 10)  # Works correctly\n",
        "```\n",
        "\n",
        "#### **c) Data Structure Conversion**\n",
        "Type casting is commonly used to convert between data structures like lists, tuples, and sets.\n",
        "```python\n",
        "my_list = [1, 2, 3]\n",
        "my_tuple = tuple(my_list)  # Convert list to tuple\n",
        "print(my_tuple)  # (1, 2, 3)\n",
        "\n",
        "my_set = set(my_list)  # Convert list to set\n",
        "print(my_set)  # {1, 2, 3}\n",
        "```\n",
        "\n",
        "---\n",
        "\n",
        "### **4. Important Notes**\n",
        "1. **Loss of Precision**: Converting from `float` to `int` truncates the decimal part.\n",
        "\n",
        "\n",
        "2. **Errors**: Invalid conversions raise errors.\n",
        "   `\n",
        "\n",
        "3. **Booleans in Casting**:\n",
        "   - `bool(0)`, `bool(\"\")`, and `bool([])` return `False`.\n",
        "   - Any other value returns `True`.\n",
        "  "
      ],
      "metadata": {
        "id": "rEkIlBHNUWnD"
      }
    },
    {
      "cell_type": "markdown",
      "source": [
        "10. What is the difference between implicit and explicit type casting\n",
        "   - The difference between **implicit** and **explicit** type casting lies in **who initiates the conversion** and **the control over the conversion process**.\n",
        "\n",
        "### **1. Implicit Type Casting (Type Coercion)**\n",
        "- **Definition**: Python **automatically** converts one data type to another when it deems the conversion safe and there is no risk of data loss.\n",
        "- **Control**: Handled by Python, not the programmer.\n",
        "- **Common Scenarios**: Happens during operations involving mixed data types (e.g., `int` with `float`).\n",
        "- **Risk**: Safe and non-destructive; no information is lost during the conversion.\n",
        "\n",
        "#\n",
        "### **2. Explicit Type Casting (Type Conversion)**\n",
        "- **Definition**: The programmer **manually** converts one data type to another using specific functions like `int()`, `float()`, or `str()`.\n",
        "- **Control**: Fully controlled by the programmer.\n",
        "- **Common Scenarios**: Used when Python does not perform an automatic conversion, or when specific formatting or data transformation is needed.\n",
        "- **Risk**: May result in data loss or errors if not handled carefully.\n",
        "\n",
        "### **Key Differences Between Implicit and Explicit Casting**\n",
        "\n",
        "| Feature                 | **Implicit Type Casting**          | **Explicit Type Casting**           |\n",
        "|-------------------------|-------------------------------------|-------------------------------------|\n",
        "| **Who Performs It**      | Python (automatically)             | Programmer (manually)               |\n",
        "| **Control**             | No control by the programmer       | Full control by the programmer      |\n",
        "| **Risk of Data Loss**    | None (safe operations only)         | Possible (e.g., truncation or errors)|\n",
        "| **Functions Used**       | None (handled internally by Python)| Requires casting functions (e.g., `int()`, `float()`) |\n",
        "| **Examples**            | Arithmetic between `int` and `float`| Converting `str` to `int` using `int()` |\n",
        "\n",
        "---\n",
        "\n",
        "\n",
        "\n",
        "\n",
        "\n",
        "### **When to Use Each**\n",
        "- Use **implicit type casting** when Python can safely handle it (e.g., arithmetic operations).\n",
        "- Use **explicit type casting** when precise control or format conversion is required (e.g., converting user input).\n",
        "\n"
      ],
      "metadata": {
        "id": "9-rozXvNVLOs"
      }
    },
    {
      "cell_type": "markdown",
      "source": [
        "11.  What is the purpose of conditional statements in Python\n",
        "    - **Conditional statements** in Python are used to execute different blocks of code based on certain conditions. They allow programs to make decisions, enabling dynamic and logical control of the program's flow.\n",
        "\n",
        "---\n",
        "\n",
        "### **Purpose of Conditional Statements**\n",
        "1. **Decision Making**: They help in determining which block of code to execute based on whether a condition is `True` or `False`.\n",
        "2. **Control Flow**: Allow the program to branch into different execution paths, making it more interactive and responsive.\n",
        "3. **Logic Implementation**: Facilitate the implementation of rules, comparisons, and logic-driven operations in programs.\n",
        "4. **Error Handling**: Can be used to check and handle specific scenarios or edge cases to avoid runtime errors.\n",
        "\n",
        "---\n",
        "\n",
        "### **Types of Conditional Statements in Python**\n",
        "\n",
        "#### **1. `if` Statement**\n",
        "Executes a block of code if a condition is `True`.\n",
        "\n",
        "**Syntax**:\n",
        "```python\n",
        "if condition:\n",
        "    # code block\n",
        "```\n",
        "\n",
        "**Example**:\n",
        "```python\n",
        "age = 18\n",
        "if age >= 18:\n",
        "    print(\"You are eligible to vote.\")\n",
        "```\n",
        "\n",
        "---\n",
        "\n",
        "#### **2. `if-else` Statement**\n",
        "Executes one block of code if the condition is `True` and another block if the condition is `False`.\n",
        "\n",
        "**Syntax**:\n",
        "```python\n",
        "if condition:\n",
        "    # code block (if True)\n",
        "else:\n",
        "    # code block (if False)\n",
        "```\n",
        "\n",
        "**Example**:\n",
        "```python\n",
        "age = 16\n",
        "if age >= 18:\n",
        "    print(\"You are eligible to vote.\")\n",
        "else:\n",
        "    print(\"You are not eligible to vote.\")\n",
        "```\n",
        "\n",
        "---\n",
        "\n",
        "#### **3. `if-elif-else` Statement**\n",
        "Allows checking multiple conditions sequentially. If a condition is `True`, its corresponding block is executed, and the rest are skipped.\n",
        "\n",
        "**Syntax**:\n",
        "```python\n",
        "if condition1:\n",
        "    # code block (if condition1 is True)\n",
        "elif condition2:\n",
        "    # code block (if condition2 is True)\n",
        "else:\n",
        "    # code block (if all conditions are False)\n",
        "```\n",
        "\n",
        "**Example**:\n",
        "```python\n",
        "marks = 75\n",
        "if marks >= 90:\n",
        "    print(\"Grade: A\")\n",
        "elif marks >= 75:\n",
        "    print(\"Grade: B\")\n",
        "else:\n",
        "    print(\"Grade: C\")\n",
        "```\n",
        "\n",
        "---\n",
        "\n",
        "#### **4. Nested `if` Statements**\n",
        "`if` statements can be nested inside other `if` statements to check multiple levels of conditions.\n",
        "\n"
      ],
      "metadata": {
        "id": "FjBOM4K3Ue-m"
      }
    },
    {
      "cell_type": "markdown",
      "source": [
        "###12. How does the elif statement work?\n",
        "   - The elif statement in Python is short for \"else if\". It allows you to check multiple conditions in a sequential manner. If the condition in the if statement evaluates to False, Python checks the elif condition. If the elif condition is True, its associated block of code is executed. If none of the if or elif conditions are True, the else block is executed (if present).\n",
        "\n",
        "# New Section\n",
        "Order of Evaluation: Python evaluates the conditions from top to bottom, starting with the if condition. If any condition is True, the corresponding block is executed, and the rest are skipped.\n",
        "Mutually Exclusive Execution: Only the first True condition is executed in an if-elif-else chain, even if other conditions are also True.\n",
        "Optional Else: The else block is not mandatory, but it can be used to handle cases where none of the conditions are True.\n"
      ],
      "metadata": {
        "id": "Tb6tQzrmUg4V"
      }
    },
    {
      "cell_type": "markdown",
      "source": [
        "####**13**.  Write a Python program to find the sum of all even numbers between 1 and 500\n",
        "   Here’s a Python program to calculate the sum of all even numbers between 1 and 500:\n",
        "\n",
        "### **Program:**\n",
        "```python\n",
        "# Initialize the sum variable\n",
        "sum_of_evens = 0\n",
        "\n",
        "# Use a loop to iterate over the range of even numbers\n",
        "for number in range(2, 501, 2):  # Start at 2, increment by 2\n",
        "    sum_of_evens += number\n",
        "\n",
        "# Print the result\n",
        "print(\"The sum of all even numbers between 1 and 500 is:\", sum_of_evens)\n",
        "```\n",
        "\n",
        "---\n",
        "\n",
        "### **Explanation:**\n",
        "1. **Initialization**:\n",
        "   - The variable `sum_of_evens` is initialized to `0` to store the running total.\n",
        "2. **Range**:\n",
        "   - The `range(2, 501, 2)` generates all even numbers between 1 and 500:\n",
        "     - Start at 2 (the first even number in the range).\n",
        "     - End at 501 (to include 500).\n",
        "     - Increment by 2 to skip odd numbers.\n",
        "3. **Summation**:\n",
        "   - Each even number is added to `sum_of_evens` in the loop.\n",
        "4. **Output**:\n",
        "   - The final sum is printed.\n",
        "\n",
        "---\n",
        "\n",
        "### **Output**:\n",
        "When you run the program, the output will be:\n",
        "```\n",
        "The sum of all even numbers between 1 and 500 is: 62750\n",
        "```\n",
        "\n",
        "---\n",
        "\n",
        "### **Alternative Using Mathematical Formula**:\n",
        "You can calculate the sum without a loop by using the formula for the sum of an arithmetic sequence:\n",
        "\\[ S = \\frac{n}{2} \\times (\\text{first term} + \\text{last term}) \\]\n",
        "Here, the sequence is: \\( 2, 4, 6, \\dots, 500 \\).\n",
        "\n",
        "**Python Implementation**:\n",
        "```python\n",
        "# First and last terms\n",
        "first_term = 2\n",
        "last_term = 500\n",
        "\n",
        "# Total number of terms\n",
        "n = (last_term - first_term) // 2 + 1\n",
        "\n",
        "# Calculate the sum using the formula\n",
        "sum_of_evens = n * (first_term + last_term) // 2\n",
        "\n",
        "print(\"The sum of all even numbers between 1 and 500 is:\", sum_of_evens)\n",
        "```\n",
        "\n",
        "This also produces:\n",
        "```\n",
        "The sum of all even numbers between 1 and 500 is: 62750\n",
        "```\n",
        "\n"
      ],
      "metadata": {
        "id": "0RG7cQC6dJE2"
      }
    },
    {
      "cell_type": "markdown",
      "source": [
        "14. Describe a scenario where a while loop is more suitable than a for loop\n",
        "  - A **`while` loop** is more suitable than a **`for` loop** when the number of iterations is **not predetermined** and depends on a condition being met during runtime.\n",
        "\n",
        "---\n",
        "\n",
        "### **Scenario: Waiting for User Input Until a Specific Condition is Met**\n",
        "Imagine a situation where you need to repeatedly prompt a user for a password until they enter the correct one. In this case, you don't know how many attempts the user will need. The loop must continue running until the correct password is entered, making a `while` loop the better choice.\n",
        "\n",
        "---\n",
        "\n",
        "\n",
        "### **Why Use `while` Here?**\n",
        "1. The number of iterations is **unknown** because it depends on how many attempts the user makes.\n",
        "2. A `while` loop ensures that the condition (`user_input != correct_password`) is checked after every input, and the loop continues until the condition is `False`.\n",
        "3. A `for` loop, which is designed for iterating a fixed number of times or over a sequence, would not fit naturally in this scenario.\n",
        "\n",
        "---\n",
        "\n",
        "### **Other Scenarios for `while` Loops**\n",
        "1. **Monitoring a System State**:\n",
        "   - Continuously monitor a system's status until it meets a specific condition, such as a file being created or a server shutting down.\n",
        "  \n",
        "2. **Game Loops**:\n",
        "   - Keep a game running until the player quits or a certain condition is met, such as losing all lives or winning the game.\n",
        "\n",
        "3. **Waiting for a Valid Input**:\n",
        "   - Keep asking a user for a valid number within a range.\n",
        "   ```python\n",
        "   number = -1\n",
        "   while number < 0 or number > 10:\n",
        "       number = int(input(\"Enter a number between 0 and 10: \"))\n",
        "   print(\"You entered a valid number:\", number)\n",
        "   ```\n",
        "\n",
        "---\n",
        "\n",
        "### **Key Takeaways**\n",
        "- Use a `while` loop when:\n",
        "  - The loop should run until a specific condition is met.\n",
        "  - The number of iterations cannot be determined in advance.\n",
        "  - You need greater flexibility in breaking or continuing based on conditions.\n",
        "- Use a `for` loop when:\n",
        "  - You have a fixed number of iterations or a predefined sequence to iterate over.\n",
        "\n"
      ],
      "metadata": {
        "id": "uRM05PD6U4pR"
      }
    },
    {
      "cell_type": "markdown",
      "source": [
        "###  ***PRACTICAL SECTION***"
      ],
      "metadata": {
        "id": "dMnvWCJieutP"
      }
    },
    {
      "cell_type": "markdown",
      "source": [],
      "metadata": {
        "id": "ITUlH-06e4Ik"
      }
    },
    {
      "cell_type": "markdown",
      "source": [
        "1.  Write a Python program to print \"Hello, World!_"
      ],
      "metadata": {
        "id": "f6bIwys5fMnS"
      }
    },
    {
      "cell_type": "markdown",
      "source": [
        "\n",
        "print(\"Hello,World\")\n",
        "\n"
      ],
      "metadata": {
        "id": "qGRZmS9Kgnef"
      }
    },
    {
      "cell_type": "code",
      "source": [],
      "metadata": {
        "id": "uw83RmJxf7n4"
      },
      "execution_count": null,
      "outputs": []
    },
    {
      "cell_type": "markdown",
      "source": [
        "2.0 Write a Python program that displays your name and age\n",
        "\n",
        " Store name and age\n",
        "name = (\"Hanshita\")\n",
        "age = \"23\"\n",
        "\n",
        "# Display name and age\n",
        "print(\"My name is\", Hanshita)\n",
        "print(\"I am\", age, \"23.\")\n",
        "\n"
      ],
      "metadata": {
        "id": "A6lLR8Dch4hr"
      }
    },
    {
      "cell_type": "markdown",
      "source": [],
      "metadata": {
        "id": "vSylfC4GlO46"
      }
    },
    {
      "cell_type": "markdown",
      "source": [
        "3. Write code to print all the pre-defined keywords in Python using the keyword library0\n",
        "# Import the keyword library\n",
        "import keyword\n",
        "\n",
        "# Get the list of all keywords\n",
        "keywords = keyword.kwlist\n",
        "\n",
        "# Print the keywords\n",
        "print(\"Predefined keywords in Python:\")\n",
        "for kw in keywords:\n",
        "    print(kw)\n",
        "\n",
        "```\n",
        "# This is formatted as code\n",
        "```\n",
        "\n",
        "\n",
        "\n"
      ],
      "metadata": {
        "id": "6dLLZfSWkz2R"
      }
    },
    {
      "cell_type": "markdown",
      "source": [
        "4 . Write a program that checks if a given word is a Python keyword\n",
        "# Import the keyword library\n",
        "import keyword\n",
        "\n",
        "# Get input from the user\n",
        "word = input(\"Enter a word to check if it's a Python keyword: \")\n",
        "\n",
        "# Check if the word is a keyword\n",
        "if keyword.iskeyword(word):\n",
        "    print(f\"'{word}' is a Python keyword.\")\n",
        "else:\n",
        "    print(f\"'{word}' is NOT a Python keyword.\")\n",
        "'if' is a Python keyword.\n",
        "'if' is a Python keyword.\n",
        "\n"
      ],
      "metadata": {
        "id": "pryHx6R1lDkY"
      }
    },
    {
      "cell_type": "markdown",
      "source": [
        "5. Create a list and tuple in Python, and demonstrate how attempting to change an element works differently\n",
        "for each0\n",
        "my_list = [10, 20, 30]\n",
        "my_tuple = (10, 20, 30)\n",
        "\n",
        "# Modify an element in the list\n",
        "print(\"Original list:\", my_list)\n",
        "my_list[1] = 99  # This works because lists are mutable\n",
        "print(\"Modified list:\", my_list)\n",
        "\n",
        "# Attempt to modify an element in the tuple\n",
        "print(\"\\nOriginal tuple:\", my_tuple)\n",
        "try:\n",
        "    my_tuple[1] = 99  # This will raise a TypeError because tuples are immutable\n",
        "except TypeError as e:\n",
        "    print(\"Error:\", e)"
      ],
      "metadata": {
        "id": "cnJVHmx5nmt2"
      }
    },
    {
      "cell_type": "code",
      "source": [],
      "metadata": {
        "id": "Gv2-IaGpo8wG"
      },
      "execution_count": null,
      "outputs": []
    },
    {
      "cell_type": "markdown",
      "source": [
        "6. Write a function to demonstrate the behavior of mutable and immutable arguments\n",
        "\"\"\"Demonstrates the behavior of mutable and immutable arguments.\n",
        "\n",
        "    Args:\n",
        "        immutable_arg: An immutable argument (e.g., int, str, tuple).\n",
        "        mutable_arg: A mutable argument (e.g., list, dict).\n",
        "    \"\"\"\n",
        "\n",
        "    # Attempt to modify the immutable argument\n",
        "    immutable_arg += 1  # Creates a new object\n",
        "\n",
        "    # Modify the mutable argument\n",
        "    mutable_arg.append(4)  # Modifies the original object\n",
        "\n",
        "    print(\"Inside function:\")\n",
        "    print(\"Immutable argument:\", immutable_arg)\n",
        "    print(\"Mutable argument:\", mutable_arg)\n",
        "\n",
        "\n",
        "# Create variables for the arguments\n",
        "immutable_var = 10\n",
        "mutable_var = [1, 2, 3]\n",
        "\n",
        "# Call the function\n",
        "modify_arguments(immutable_var, mutable_var)\n",
        "\n",
        "# Print the variables after the function call"
      ],
      "metadata": {
        "id": "Urt88w9tp0U5"
      }
    },
    {
      "cell_type": "code",
      "source": [],
      "metadata": {
        "id": "IEhW5yAfpyyU"
      },
      "execution_count": null,
      "outputs": []
    },
    {
      "cell_type": "markdown",
      "source": [
        "\n",
        "7.  Write a program to demonstrate the use of logical operators\n",
        "# Get input from the user\n",
        "age = int(input(\"Enter your age: \"))\n",
        "has_license = input(\"Do you have a driver's license? (yes/no): \").lower()\n",
        "\n",
        "# Check if the person is eligible to drive\n",
        "if age >= 18 and has_license == \"yes\":\n",
        "    print(\"You are eligible to drive.\")\n",
        "elif age < 18:\n",
        "    print(\"You are too young to drive.\")\n",
        "else:\n",
        "    print(\"You need a driver's license to drive.\")\n",
        "\n",
        "# Example with 'or' operator\n",
        "is_weekend = input(\"Is it the weekend? (yes/no): \").lower()\n",
        "is_holiday = input(\"Is it a holiday? (yes/no): \").lower()\n",
        "\n",
        "if is_weekend == \"yes\" or is_holiday == \"yes\":\n",
        "    print(\"It's time to relax!\")\n",
        "else:\n",
        "    print(\"Back to work/school.\")\n",
        "\n",
        "# Example with 'not' operator\n",
        "is_raining = input(\"Is it raining? (yes/no): \").lower()\n",
        "\n",
        "if not is_raining == \"yes\":\n",
        "    print(\"It's a good day to go for a walk.\")\n",
        "else:\n",
        "    print(\"Better stay indoors.\")"
      ],
      "metadata": {
        "id": "tpXXbdJUqSrc"
      }
    },
    {
      "cell_type": "markdown",
      "source": [
        "8. Write a Python program to convert user input from string to integer, float, and boolean types\n",
        "def convert_to_type(user_input, data_type):\n",
        "    \"\"\"Converts user input to the specified data type.\n",
        "\n",
        "    Args:\n",
        "        user_input: The string input from the user.\n",
        "        data_type: The desired data type ('int', 'float', 'bool').\n",
        "\n",
        "    Returns:\n",
        "        The converted value, or None if the conversion fails.\n",
        "    \"\"\"\n",
        "    try:\n",
        "        if data_type == 'int':\n",
        "            return int(user_input)\n",
        "        elif data_type == 'float':\n",
        "            return float(user_input)\n",
        "        elif data_type == 'bool':\n",
        "            return user_input.lower() in ['true', '1', 't', 'y', 'yes']\n",
        "        else:\n",
        "            return None\n",
        "    except ValueError:\n",
        "        print(\"Invalid input for type:\", data_type)\n",
        "        return None\n",
        "\n",
        "# Get user input\n",
        "user_input = input(\"Enter a value: \")\n",
        "data_type = input(\"Enter the desired data type (int, float, bool): \").lower()\n",
        "\n",
        "# Convert the input\n",
        "converted_value = convert_to_type(user_input, data_type)\n",
        "\n",
        "# Print the result\n",
        "if converted_value is not None:\n",
        "    print(\"Converted value:\", converted_value)\n",
        "    print(\"Data type:\", type(converted_value))"
      ],
      "metadata": {
        "id": "yJ-e4oqRq45W"
      }
    },
    {
      "cell_type": "markdown",
      "source": [
        "9.Write code to demonstrate type casting with list elements\n",
        "-# Original list with mixed data types\n",
        "my_list = ['1', '2.5', 'True', '42']\n",
        "\n",
        "# Type casting to integers\n",
        "int_list = [int(x) for x in my_list if x.isdigit()]\n",
        "print(\"Integer list:\", int_list)\n",
        "\n",
        "float_list = [float(x) for x in my_list if x.replace('.', '', 1).isdigit()]\n",
        "print(\"Float list:\", float_list)\n",
        "\n",
        "# Type casting to booleans\n",
        "bool_list = [x.lower() in ['true', '1', 't', 'y', 'yes'] for x in my_list]\n",
        "print(\"Boolean list:\", bool_list)\n",
        "\n"
      ],
      "metadata": {
        "id": "nwOHcpaHrLYt"
      }
    },
    {
      "cell_type": "markdown",
      "source": [
        "10. Write a program that checks if a number is positive, negative, or zero\n",
        "   -def check_number(number):\n",
        "  \"\"\"Checks if a number is positive, negative, or zero.\n",
        "\n",
        "  Args:\n",
        "    number: The number to check.\n",
        "\n",
        "  Returns:\n",
        "    A string indicating whether the number is positive, negative, or zero.\n",
        "  \"\"\"\n",
        "  if number > 0:\n",
        "    return \"Positive\"\n",
        "  elif number < 0:\n",
        "    return \"Negative\"\n",
        "  else:\n",
        "    return \"Zero\"\n",
        "\n",
        "\n",
        "# Get input from the user\n",
        "number = float(input(\"Enter a number: \"))\n",
        "\n",
        "# Check the number and print the result\n",
        "result = check_number(number)\n",
        "print(f\"The number is {result}.\")"
      ],
      "metadata": {
        "id": "58sYPljLrqQe"
      }
    },
    {
      "cell_type": "markdown",
      "source": [
        "11. Write a for loop to print numbers from 1 to 100\n",
        "\n",
        "\n",
        "    range(1, 101):\n",
        "  print(i)\n",
        "\n",
        "---\n",
        "\n"
      ],
      "metadata": {
        "id": "-9Ws7H85r8YR"
      }
    },
    {
      "cell_type": "markdown",
      "source": [
        "12.  Write a Python program to find the sum of all even numbers between 1 and 500"
      ],
      "metadata": {
        "id": "W90ZLdoGslAX"
      }
    },
    {
      "cell_type": "code",
      "source": [
        "\n",
        "# Initialize the sum to 0\n",
        "total_sum = 0\n",
        "\n",
        "# Iterate through numbers from 2 to 500 (inclusive) with a step of 2\n",
        "for number in range(2, 501, 2):\n",
        "  total_sum += number  # Add the current even number to the total sum\n",
        "\n",
        "# Print the result\n",
        "print(\"The sum of all even numbers between 1 and 500 is:\", total_sum)"
      ],
      "metadata": {
        "colab": {
          "base_uri": "https://localhost:8080/"
        },
        "id": "pT5HhlUksFwK",
        "outputId": "6d63a9f5-0e22-4061-d445-a5626f5058c0"
      },
      "execution_count": 16,
      "outputs": [
        {
          "output_type": "stream",
          "name": "stdout",
          "text": [
            "The sum of all even numbers between 1 and 500 is: 62750\n"
          ]
        }
      ]
    },
    {
      "cell_type": "markdown",
      "source": [
        "13. Write a program to reverse a string using a while loop"
      ],
      "metadata": {
        "id": "qQEwMRRNv2cs"
      }
    },
    {
      "cell_type": "code",
      "source": [
        "def reverse_string(text):\n",
        "    \"\"\"Reverses a string using a while loop.\n",
        "\n",
        "    Args:\n",
        "        text: The string to reverse.\n",
        "\n",
        "    Returns:\n",
        "        The reversed string.\n",
        "    \"\"\"\n",
        "    reversed_text = \"\"\n",
        "    index = len(text) - 1  # Start from the last index\n",
        "\n",
        "    while index >= 0:\n",
        "        reversed_text += text[index]  # Append the current character to the reversed string\n",
        "        index -= 1  # Move to the previous index\n",
        "\n",
        "    return reversed_text\n",
        "\n",
        "# Get input from the user\n",
        "input_string = input(\"Enter a string: \")\n",
        "\n",
        "# Reverse the string\n",
        "reversed_string = reverse_string(input_string)\n",
        "\n",
        "# Print the reversed string\n",
        "print(\"Reversed string:\", reversed_string)"
      ],
      "metadata": {
        "colab": {
          "base_uri": "https://localhost:8080/"
        },
        "id": "APFmmrffv__-",
        "outputId": "493a6e48-e21f-4ca6-9ddf-7285474df623"
      },
      "execution_count": 17,
      "outputs": [
        {
          "output_type": "stream",
          "name": "stdout",
          "text": [
            "Enter a string: ajay\n",
            "Reversed string: yaja\n"
          ]
        }
      ]
    },
    {
      "cell_type": "markdown",
      "source": [
        "14. Write a Python program to calculate the factorial of a number provided by the user using a while loop."
      ],
      "metadata": {
        "id": "klJwjCt1sNbK"
      }
    },
    {
      "cell_type": "code",
      "source": [
        "def factorial_while(number):\n",
        "    \"\"\"Calculates the factorial of a number using a while loop.\n",
        "\n",
        "    Args:\n",
        "        number: The number for which to calculate the factorial.\n",
        "\n",
        "    Returns:\n",
        "        The factorial of the number.\n",
        "    \"\"\"\n",
        "\n",
        "    if number < 0:\n",
        "        return \"Factorial is not defined for negative numbers.\"\n",
        "    elif number == 0:\n",
        "        return 1\n",
        "    else:\n",
        "        factorial = 1\n",
        "        while number > 1:\n",
        "            factorial *= number\n",
        "            number -= 1\n",
        "        return factorial\n",
        "\n",
        "# Get input from the user\n",
        "num = int(input(\"Enter a non-negative integer: \"))\n",
        "\n",
        "# Calculate and print the factorial\n",
        "result = factorial_while(num)\n",
        "print(f\"The factorial of {num} is: {result}\")"
      ],
      "metadata": {
        "colab": {
          "base_uri": "https://localhost:8080/"
        },
        "id": "tKv1aCpzws7Y",
        "outputId": "fd127bb0-d20e-4c63-917e-4e60de9286fa"
      },
      "execution_count": 18,
      "outputs": [
        {
          "output_type": "stream",
          "name": "stdout",
          "text": [
            "Enter a non-negative integer: 5\n",
            "The factorial of 5 is: 120\n"
          ]
        }
      ]
    },
    {
      "cell_type": "code",
      "source": [],
      "metadata": {
        "id": "4-cRiMqbwclY"
      },
      "execution_count": null,
      "outputs": []
    }
  ]
}